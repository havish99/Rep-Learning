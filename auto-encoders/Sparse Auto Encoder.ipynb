{
 "cells": [
  {
   "cell_type": "code",
   "execution_count": 1,
   "metadata": {},
   "outputs": [],
   "source": [
    "import numpy as np\n",
    "X_train = np.load(\"reshaped_14.npy\")\n",
    "# X_train1 = X_train[:40000]\n",
    "np.random.seed(42)"
   ]
  },
  {
   "cell_type": "code",
   "execution_count": 2,
   "metadata": {},
   "outputs": [],
   "source": [
    "def layer(w,x,b):\n",
    "    out = np.dot(x,w)+b.T\n",
    "    return out\n",
    "# the sigmoid function\n",
    "def sigmoid(x):\n",
    "    return 1.0/(1.0+np.exp(-x))\n",
    "\n",
    "# derivative of sigmoid function\n",
    "def derivative_sigmoid(x):\n",
    "    return sigmoid(x)*(1-sigmoid(x))"
   ]
  },
  {
   "cell_type": "code",
   "execution_count": 3,
   "metadata": {},
   "outputs": [
    {
     "name": "stdout",
     "output_type": "stream",
     "text": [
      "(14, 14)\n",
      "(60000, 196)\n"
     ]
    }
   ],
   "source": [
    "flat = X_train[0].shape\n",
    "print(flat)\n",
    "epochs = 10\n",
    "in_dim = flat[0]*flat[1]\n",
    "X=X_train.reshape(len(X_train),flat[0]*flat[1])\n",
    "print(X.shape)\n",
    "# rescaled\n",
    "X=X/255.0"
   ]
  },
  {
   "cell_type": "code",
   "execution_count": 4,
   "metadata": {},
   "outputs": [
    {
     "name": "stdout",
     "output_type": "stream",
     "text": [
      "(250, 196)\n",
      "(196, 1)\n"
     ]
    }
   ],
   "source": [
    "hidden_nodes=250\n",
    "learning_rate = 1e-4\n",
    "Lambda = 1\n",
    "s1 = 0.05\n",
    "W1=np.random.normal(0,1,(in_dim,hidden_nodes))\n",
    "W2=np.random.normal(0,1,(hidden_nodes,in_dim))\n",
    "print(W2.shape)\n",
    "b1=np.random.normal(0,1,(hidden_nodes,1))\n",
    "b2=np.random.normal(0,1,(in_dim,1))\n",
    "print(b2.shape)\n",
    "nsamples = len(X)"
   ]
  },
  {
   "cell_type": "code",
   "execution_count": 5,
   "metadata": {},
   "outputs": [],
   "source": [
    "def backprop(delta,z):\n",
    "    sum1=np.sum(delta,axis=0)\n",
    "    sum1=sum1.reshape(len(sum1),1)\n",
    "    bias = sum1\n",
    "    total = np.matmul(z.T,delta)\n",
    "    return total,bias\n",
    "\n",
    "def smi(delta,W,z):\n",
    "    delta_l1 = np.matmul(delta,W.T)\n",
    "#     delta_l1 = delta_l1.reshape(len(delta_l1),1)\n",
    "    sm = derivative_sigmoid(z)*delta_l1\n",
    "    return sm"
   ]
  },
  {
   "cell_type": "code",
   "execution_count": 6,
   "metadata": {},
   "outputs": [
    {
     "name": "stdout",
     "output_type": "stream",
     "text": [
      "(5195425.78954407, 0)\n",
      "(2523655.6762291742, 1)\n",
      "(1377200.1887236158, 2)\n",
      "(1130930.147408648, 3)\n",
      "(1019227.2229449205, 4)\n",
      "(900553.5256282198, 5)\n",
      "(819973.7650455814, 6)\n",
      "(805524.8684840689, 7)\n",
      "(763156.7830748295, 8)\n",
      "(743445.9871188699, 9)\n",
      "(715452.3868422982, 10)\n",
      "(700801.2743875327, 11)\n",
      "(677194.5691569949, 12)\n",
      "(665414.5169539254, 13)\n",
      "(644478.8281344186, 14)\n",
      "(634456.0637857575, 15)\n",
      "(615626.765174445, 16)\n",
      "(606531.3982025343, 17)\n",
      "(589748.876920898, 18)\n",
      "(581066.4910569413, 19)\n",
      "(566267.723274543, 20)\n",
      "(558008.0070864657, 21)\n",
      "(544959.0396892929, 22)\n",
      "(537199.5036891804, 23)\n",
      "(525623.684003045, 24)\n",
      "(518385.9889726015, 25)\n",
      "(508050.11018062907, 26)\n",
      "(501329.162156278, 27)\n",
      "(492039.79207903106, 28)\n",
      "(485812.33336521685, 29)\n",
      "(477412.0831018406, 30)\n",
      "(471642.84359006514, 31)\n",
      "(464005.71179743006, 32)\n",
      "(458653.52774092066, 33)\n",
      "(451676.66535964864, 34)\n",
      "(446697.1700633862, 35)\n",
      "(440293.6687814219, 36)\n",
      "(435641.64666468, 37)\n",
      "(429736.5382018481, 38)\n",
      "(425369.03865684406, 39)\n",
      "(419898.02975612314, 40)\n",
      "(415777.8109680203, 41)\n",
      "(410688.52090836834, 42)\n",
      "(406787.60306617455, 43)\n",
      "(402041.63741522736, 44)\n",
      "(398341.99403518694, 45)\n",
      "(393912.3853897176, 46)\n",
      "(390399.9528172047, 47)\n",
      "(386262.9430599852, 48)\n",
      "(382920.37755763705, 49)\n",
      "(379050.4783854785, 50)\n",
      "(375856.4290193246, 51)\n",
      "(372227.92966426106, 52)\n",
      "(369160.3863331354, 53)\n",
      "(365749.80627761304, 54)\n",
      "(362787.53887538624, 55)\n",
      "(359573.95912852493, 56)\n",
      "(356694.0236537843, 57)\n",
      "(353656.04534983955, 58)\n",
      "(350826.7156957628, 59)\n",
      "(347939.0523696865, 60)\n",
      "(345127.06604113255, 61)\n",
      "(342407.96089991456, 62)\n",
      "(339661.9822191749, 63)\n",
      "(337224.64716868836, 64)\n",
      "(334586.93345263303, 65)\n",
      "(332449.3890998429, 66)\n",
      "(329867.7363223684, 67)\n",
      "(327988.7900183374, 68)\n",
      "(325434.9598426433, 69)\n",
      "(323743.8627149854, 70)\n",
      "(321230.8040771909, 71)\n",
      "(319635.3530062616, 72)\n",
      "(317202.7434129037, 73)\n",
      "(315633.8294285847, 74)\n",
      "(313314.9098835374, 75)\n",
      "(311739.2373355281, 76)\n",
      "(309549.0142330991, 77)\n",
      "(307950.93491123675, 78)\n",
      "(305898.68102499965, 79)\n",
      "(304270.4669688593, 80)\n",
      "(302369.6101342146, 81)\n",
      "(300711.8319056363, 82)\n",
      "(298976.22715381556, 83)\n",
      "(297292.96224313293, 84)\n",
      "(295718.10490520997, 85)\n",
      "(294010.5669684025, 86)\n",
      "(292568.8693068732, 87)\n",
      "(290840.9304021098, 88)\n",
      "(289500.3652031949, 89)\n",
      "(287760.1671331256, 90)\n",
      "(286500.96583281277, 91)\n",
      "(284754.40443213633, 92)\n",
      "(283571.0556834941, 93)\n",
      "(281818.3931490148, 94)\n",
      "(280713.36094082793, 95)\n",
      "(278950.9044387489, 96)\n",
      "(277929.09273330955, 97)\n",
      "(276151.57114081347, 98)\n",
      "(275217.7799067931, 99)\n",
      "(273419.5879015333, 100)\n",
      "(272577.80141128256, 101)\n",
      "(270753.42646117194, 102)\n",
      "(270006.83136369917, 103)\n",
      "(268150.96944622975, 104)\n",
      "(267502.19925135886, 105)\n",
      "(265609.80754430743, 106)\n",
      "(265061.2387804035, 107)\n",
      "(263127.6057253947, 108)\n",
      "(262681.6479582369, 109)\n",
      "(260702.47959153986, 110)\n",
      "(260361.81260748004, 111)\n",
      "(258333.27245926752, 112)\n",
      "(258100.94884736606, 113)\n",
      "(256019.55190151665, 114)\n",
      "(255898.89442446156, 115)\n",
      "(253761.23619354906, 116)\n",
      "(253755.60221598632, 117)\n",
      "(251558.08035827678, 118)\n",
      "(251670.6928776492, 119)\n",
      "(249409.39464482546, 120)\n",
      "(249643.3372813009, 121)\n",
      "(247314.08539072587, 122)\n",
      "(247672.38254556485, 123)\n",
      "(245270.83417437147, 124)\n",
      "(245756.50162797427, 125)\n",
      "(243278.24265142708, 126)\n",
      "(243894.2422383593, 127)\n",
      "(241334.88355731513, 128)\n",
      "(242083.95776598027, 129)\n",
      "(239439.274146088, 130)\n",
      "(240323.66386314493, 131)\n",
      "(237589.82073823657, 132)\n",
      "(238610.89171738867, 133)\n",
      "(235784.7787518794, 134)\n",
      "(236942.60508259246, 135)\n",
      "(234022.2448439735, 136)\n",
      "(235315.22384320654, 137)\n",
      "(232300.17521674975, 138)\n",
      "(233724.77060502846, 139)\n",
      "(230616.4237016836, 140)\n",
      "(232167.13071830722, 141)\n",
      "(228968.80235585463, 142)\n",
      "(230638.38012495614, 143)\n",
      "(227355.1654029695, 144)\n",
      "(229135.09803980967, 145)\n",
      "(225773.5030628076, 146)\n",
      "(227654.57483314554, 147)\n",
      "(224222.02092853852, 148)\n",
      "(226194.86758721413, 149)\n",
      "(222699.18494894268, 150)\n",
      "(224754.72174207642, 151)\n",
      "(221203.72764665633, 152)\n",
      "(223333.42152323519, 153)\n",
      "(219734.62516271905, 154)\n",
      "(221930.6327645767, 155)\n",
      "(218291.05926330955, 156)\n",
      "(220546.2739060122, 157)\n"
     ]
    },
    {
     "ename": "KeyboardInterrupt",
     "evalue": "",
     "output_type": "error",
     "traceback": [
      "\u001b[0;31m---------------------------------------------------------------------------\u001b[0m",
      "\u001b[0;31mKeyboardInterrupt\u001b[0m                         Traceback (most recent call last)",
      "\u001b[0;32m<ipython-input-6-79f62681bb90>\u001b[0m in \u001b[0;36m<module>\u001b[0;34m()\u001b[0m\n\u001b[1;32m     21\u001b[0m     \u001b[0mtotal_2\u001b[0m \u001b[0;34m=\u001b[0m \u001b[0mtotal_2\u001b[0m \u001b[0;34m+\u001b[0m \u001b[0mtot\u001b[0m\u001b[0;34m\u001b[0m\u001b[0m\n\u001b[1;32m     22\u001b[0m \u001b[0;34m\u001b[0m\u001b[0m\n\u001b[0;32m---> 23\u001b[0;31m     \u001b[0mder_layer1\u001b[0m \u001b[0;34m=\u001b[0m \u001b[0mderivative_sigmoid\u001b[0m\u001b[0;34m(\u001b[0m\u001b[0mout_1\u001b[0m\u001b[0;34m)\u001b[0m\u001b[0;34m\u001b[0m\u001b[0m\n\u001b[0m\u001b[1;32m     24\u001b[0m     \u001b[0mterm\u001b[0m \u001b[0;34m=\u001b[0m \u001b[0mLambda\u001b[0m\u001b[0;34m*\u001b[0m\u001b[0mD\u001b[0m\u001b[0;34m*\u001b[0m\u001b[0mder_layer1\u001b[0m\u001b[0;34m\u001b[0m\u001b[0m\n\u001b[1;32m     25\u001b[0m \u001b[0;34m\u001b[0m\u001b[0m\n",
      "\u001b[0;32m<ipython-input-2-4861e33b6539>\u001b[0m in \u001b[0;36mderivative_sigmoid\u001b[0;34m(x)\u001b[0m\n\u001b[1;32m      8\u001b[0m \u001b[0;31m# derivative of sigmoid function\u001b[0m\u001b[0;34m\u001b[0m\u001b[0;34m\u001b[0m\u001b[0m\n\u001b[1;32m      9\u001b[0m \u001b[0;32mdef\u001b[0m \u001b[0mderivative_sigmoid\u001b[0m\u001b[0;34m(\u001b[0m\u001b[0mx\u001b[0m\u001b[0;34m)\u001b[0m\u001b[0;34m:\u001b[0m\u001b[0;34m\u001b[0m\u001b[0m\n\u001b[0;32m---> 10\u001b[0;31m     \u001b[0;32mreturn\u001b[0m \u001b[0msigmoid\u001b[0m\u001b[0;34m(\u001b[0m\u001b[0mx\u001b[0m\u001b[0;34m)\u001b[0m\u001b[0;34m*\u001b[0m\u001b[0;34m(\u001b[0m\u001b[0;36m1\u001b[0m\u001b[0;34m-\u001b[0m\u001b[0msigmoid\u001b[0m\u001b[0;34m(\u001b[0m\u001b[0mx\u001b[0m\u001b[0;34m)\u001b[0m\u001b[0;34m)\u001b[0m\u001b[0;34m\u001b[0m\u001b[0m\n\u001b[0m",
      "\u001b[0;32m<ipython-input-2-4861e33b6539>\u001b[0m in \u001b[0;36msigmoid\u001b[0;34m(x)\u001b[0m\n\u001b[1;32m      4\u001b[0m \u001b[0;31m# the sigmoid function\u001b[0m\u001b[0;34m\u001b[0m\u001b[0;34m\u001b[0m\u001b[0m\n\u001b[1;32m      5\u001b[0m \u001b[0;32mdef\u001b[0m \u001b[0msigmoid\u001b[0m\u001b[0;34m(\u001b[0m\u001b[0mx\u001b[0m\u001b[0;34m)\u001b[0m\u001b[0;34m:\u001b[0m\u001b[0;34m\u001b[0m\u001b[0m\n\u001b[0;32m----> 6\u001b[0;31m     \u001b[0;32mreturn\u001b[0m \u001b[0;36m1.0\u001b[0m\u001b[0;34m/\u001b[0m\u001b[0;34m(\u001b[0m\u001b[0;36m1.0\u001b[0m\u001b[0;34m+\u001b[0m\u001b[0mnp\u001b[0m\u001b[0;34m.\u001b[0m\u001b[0mexp\u001b[0m\u001b[0;34m(\u001b[0m\u001b[0;34m-\u001b[0m\u001b[0mx\u001b[0m\u001b[0;34m)\u001b[0m\u001b[0;34m)\u001b[0m\u001b[0;34m\u001b[0m\u001b[0m\n\u001b[0m\u001b[1;32m      7\u001b[0m \u001b[0;34m\u001b[0m\u001b[0m\n\u001b[1;32m      8\u001b[0m \u001b[0;31m# derivative of sigmoid function\u001b[0m\u001b[0;34m\u001b[0m\u001b[0;34m\u001b[0m\u001b[0m\n",
      "\u001b[0;31mKeyboardInterrupt\u001b[0m: "
     ]
    }
   ],
   "source": [
    "epochs=200\n",
    "for k in range(0,epochs):\n",
    "    total_1 = np.zeros(W1.shape)\n",
    "    total_2 = np.zeros(W2.shape)\n",
    "    bias_1 = np.zeros(b1.shape)\n",
    "    bias_2 = np.zeros(b2.shape)\n",
    "    loss = 0\n",
    "    # forward pass\n",
    "    out_1 = layer(W1,X,b1)\n",
    "    z = sigmoid(out_1)\n",
    "    out_2 = layer(W2,z,b2)\n",
    "    y_pred= sigmoid(out_2)\n",
    "    \n",
    "    zm = np.mean(z,axis=0)\n",
    "    zm=zm.reshape(1,len(zm))\n",
    "    D = -s1/zm + (1-s1)/(1-zm)\n",
    "    \n",
    "    delta = 2*(y_pred-X)*derivative_sigmoid(out_2)\n",
    "    tot,bia = backprop(delta,z)\n",
    "    bias_2=bias_2+bia\n",
    "    total_2 = total_2 + tot\n",
    "    \n",
    "    der_layer1 = derivative_sigmoid(out_1)\n",
    "    term = Lambda*D*der_layer1\n",
    "    \n",
    "    \n",
    "    sm = smi(delta,W2,out_1)\n",
    "    sm = sm + term\n",
    "    \n",
    "    tot,bia = backprop(sm,X)\n",
    "    bias_1 = bias_1+bia\n",
    "    total_1=total_1+tot \n",
    "    \n",
    "    loss = np.sum((np.linalg.norm(y_pred-X))**2)\n",
    "    print((loss,k))\n",
    "    \n",
    "    b2=b2-learning_rate*bias_2\n",
    "    b1=b1-learning_rate*bias_1\n",
    "    W2=W2-learning_rate*total_2\n",
    "    W1=W1-learning_rate*total_1"
   ]
  },
  {
   "cell_type": "code",
   "execution_count": 28,
   "metadata": {},
   "outputs": [],
   "source": [
    "out_1 = layer(W1,X_train[9].reshape(1,196)/255.0,b1)\n",
    "z = sigmoid(out_1)\n",
    "out_2 = layer(W2,z,b2)\n",
    "y_pred= sigmoid(out_2)"
   ]
  },
  {
   "cell_type": "code",
   "execution_count": 29,
   "metadata": {},
   "outputs": [
    {
     "name": "stdout",
     "output_type": "stream",
     "text": [
      "1.7332945727007997e-11\n"
     ]
    }
   ],
   "source": [
    "print(np.min(z))"
   ]
  },
  {
   "cell_type": "code",
   "execution_count": 30,
   "metadata": {},
   "outputs": [
    {
     "name": "stdout",
     "output_type": "stream",
     "text": [
      "0.9936516130164038\n"
     ]
    }
   ],
   "source": [
    "import matplotlib.pyplot as plt\n",
    "print(np.max(y_pred))"
   ]
  },
  {
   "cell_type": "code",
   "execution_count": 31,
   "metadata": {
    "scrolled": true
   },
   "outputs": [
    {
     "data": {
      "image/png": "[encoded data removed]",
      "text/plain": [
       "<Figure size 432x288 with 1 Axes>"
      ]
     },
     "metadata": {
      "needs_background": "light"
     },
     "output_type": "display_data"
    }
   ],
   "source": [
    "y_pred = y_pred.reshape(14,14)\n",
    "y_pred=y_pred*255\n",
    "plt.imshow(y_pred,cmap='gray')\n",
    "plt.show()"
   ]
  },
  {
   "cell_type": "code",
   "execution_count": 32,
   "metadata": {},
   "outputs": [
    {
     "data": {
      "image/png": "[encoded data removed]",
      "text/plain": [
       "<Figure size 432x288 with 1 Axes>"
      ]
     },
     "metadata": {
      "needs_background": "light"
     },
     "output_type": "display_data"
    }
   ],
   "source": [
    "plt.imshow(X_train[9],cmap='gray')\n",
    "plt.show()"
   ]
  },
  {
   "cell_type": "code",
   "execution_count": 33,
   "metadata": {},
   "outputs": [
    {
     "name": "stdout",
     "output_type": "stream",
     "text": [
      "0.05073451238136953\n"
     ]
    }
   ],
   "source": [
    "print(np.mean(z))"
   ]
  },
  {
   "cell_type": "code",
   "execution_count": null,
   "metadata": {},
   "outputs": [],
   "source": []
  }
 ],
 "metadata": {
  "kernelspec": {
   "display_name": "Python 2",
   "language": "python",
   "name": "python2"
  },
  "language_info": {
   "codemirror_mode": {
    "name": "ipython",
    "version": 3
   },
   "file_extension": ".py",
   "mimetype": "text/x-python",
   "name": "python",
   "nbconvert_exporter": "python",
   "pygments_lexer": "ipython3",
   "version": "3.5.2"
  }
 },
 "nbformat": 4,
 "nbformat_minor": 2
}
